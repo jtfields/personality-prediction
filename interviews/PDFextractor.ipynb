{
 "metadata": {
  "language_info": {
   "codemirror_mode": {
    "name": "ipython",
    "version": 3
   },
   "file_extension": ".py",
   "mimetype": "text/x-python",
   "name": "python",
   "nbconvert_exporter": "python",
   "pygments_lexer": "ipython3",
   "version": "3.9.4"
  },
  "orig_nbformat": 2,
  "kernelspec": {
   "name": "python394jvsc74a57bd0b8bdd4e700647ba2b08c59e5df8b7da1dcf50a218bcd4c1bcd9b3dc92e8788e5",
   "display_name": "Python 3.9.4 64-bit ('3.9')"
  },
  "metadata": {
   "interpreter": {
    "hash": "b8bdd4e700647ba2b08c59e5df8b7da1dcf50a218bcd4c1bcd9b3dc92e8788e5"
   }
  }
 },
 "nbformat": 4,
 "nbformat_minor": 2,
 "cells": [
  {
   "cell_type": "code",
   "execution_count": 3,
   "metadata": {},
   "outputs": [],
   "source": [
    "#https://towardsdatascience.com/pdf-text-extraction-in-python-5b6ab9e92dd\n",
    "#pip install PyPDF2\n",
    "import PyPDF2"
   ]
  },
  {
   "cell_type": "code",
   "execution_count": 4,
   "metadata": {},
   "outputs": [],
   "source": [
    "reader = PyPDF2.PdfFileReader('/Users/johnfields/Library/Mobile Documents/com~apple~CloudDocs/Education/Marquette/iPeer/Wisconsin Veterans Museum/OperationOIF-OperationOEF/Anderson-Mark-E.-OH-2042.pdf')"
   ]
  },
  {
   "cell_type": "code",
   "execution_count": 5,
   "metadata": {},
   "outputs": [
    {
     "output_type": "execute_result",
     "data": {
      "text/plain": [
       "{'/Producer': 'GPL Ghostscript 8.15',\n",
       " '/CreationDate': 'D:20170718150423',\n",
       " '/ModDate': 'D:20170718150423',\n",
       " '/Title': 'Microsoft Word - Anderson, Mark E. (OH 2042)',\n",
       " '/Creator': 'PScript5.dll Version 5.2.2',\n",
       " '/Author': 'wkautca'}"
      ]
     },
     "metadata": {},
     "execution_count": 5
    }
   ],
   "source": [
    "reader.documentInfo"
   ]
  },
  {
   "cell_type": "code",
   "execution_count": 6,
   "metadata": {},
   "outputs": [
    {
     "output_type": "execute_result",
     "data": {
      "text/plain": [
       "37"
      ]
     },
     "metadata": {},
     "execution_count": 6
    }
   ],
   "source": [
    "reader.numPages"
   ]
  },
  {
   "cell_type": "code",
   "execution_count": 7,
   "metadata": {},
   "outputs": [
    {
     "output_type": "execute_result",
     "data": {
      "text/plain": [
       "'3 \\n his training, he ultimately deployed into the Pacif\\nic in late ™44, early ™45. And so that™s \\nhis service, and wish I knew more about it. My brot\\nher, oldest brother, Tom, was US \\nArmy also. He volunteered during the time of the dr\\naft for the Vietnam War, \\npredominantly because he knew he was going to go. H\\nis number was high enough \\nthatŠor low enough, I should sayŠthat he knew he wa\\nsŠhe was going to be drafted, \\nand he chose to volunteer; at least he could pick t\\nhe profession or the branch he wanted \\nto do. He ended up going Signal Corps and spent a y\\near over in Vietnam and Thailand, \\nspecifically, working on a base in intelligence gat\\nhering via communications. \\n \\n[00:09:44] \\n\\n \\n So those are the really only two military, direct \\nmilitary, in my family. As I mentioned \\npreviously, I™ve got uncles the same age as my fath\\ner at the time, that had served in \\nWorld War II also, and so a little bit of military \\nbackground but nothing that reallyŠI \\nwould guess if anybody was a model to me when it ca\\nme to joining the military, it was \\nprobably my brother Tom. I was rather young when he\\n went off to Vietnam; I was only \\nabout ten years oldŠnine years old. And soŠactually\\n, I was a little younger than that. \\nI™d have been about seven years old, now that I thi\\nnk about it. And when he came home, \\njust his service, you know, impressed me. And so th\\ne military was always of interest to \\nme. And it reallyŠit™s not something that I pursued\\n, if you want to say, during my early \\nteenage yearsŠalthough we always played war games a\\nnd that stuff as young boys. But \\nit was right about the time I was getting ready to \\nstart college. And the military, again, \\nfor whatever reasonŠI mean, I™m not sure what promp\\nted itŠspurred my interest in \\nwanting to serve. And so that™s when I initially jo\\ninedŠjoined, enlisted, as a SiŠin the \\nSignal Corps. I was a radio teletype operator. Mayb\\ne I did that kind of following my \\nbrother™s track. I™m not really sure. There™s no re\\nal connection there, but I guess the \\npossibility exists that that maybe influenced me.  \\n And onlyŠI was only in the military about two years\\n and decided thatŠI mean, I had \\nalways had a penchant for wanting to be in leadersh\\nip positions or positions of \\nresponsibility, and so kind of naturally gravitated\\n towards the officer corps. Went off to \\nofficer candidate school and completed that. Got my\\nŠgot my second lieutenant bar. \\nAnd shortly after that had an opportunity to deploy\\n to Germany, for what used to be \\ncalled the REFORGER exercises, which stood for ﬁRet\\nurn of Forces to Germany.ﬂ And \\nit was really the US™s commitment to Europe to show\\n strength against the Soviet Union \\nat the time, that we could deploy forces back into \\nGermany beyond theŠall of the \\nforces that we already had arrayed in that areaŠif \\nthe Soviet Union would happen to be \\naggressive. \\n \\n So that was my first opportunity outside of the Un\\nited States. And while it was only \\nabout a month in duration, it was a great experienc\\ne and kind of laid the groundwork for \\nme, in the sense of gaining some satisfaction from \\nmilitary service while also realizing a \\nlot ofŠlot of the benefits associated with it: the \\ntraining, you know, the leadership \\nskills. And so while I originally had promised my t\\nhen girlfriend at the time, now my \\nwife, that when I first joined I was only going to \\nstay in for my first yearŠor my first \\nterm, which would™ve been six yearsŠI guess I lied \\nto her, ultimately, now that come \\nJanuary I will hit thirty-three years. [Both laugh]\\n It is what it is. \\n '"
      ]
     },
     "metadata": {},
     "execution_count": 7
    }
   ],
   "source": [
    "reader.getPage(5-1).extractText()"
   ]
  },
  {
   "cell_type": "code",
   "execution_count": 8,
   "metadata": {},
   "outputs": [],
   "source": [
    "writer = PyPDF2.PdfFileWriter()"
   ]
  },
  {
   "cell_type": "code",
   "execution_count": 9,
   "metadata": {},
   "outputs": [],
   "source": [
    "my_page = reader.getPage(5)\n",
    "writer.addPage(my_page)"
   ]
  },
  {
   "cell_type": "code",
   "execution_count": 10,
   "metadata": {},
   "outputs": [],
   "source": [
    "output_filename = 'pages_we_want_to_save.pdf'\n",
    "with open(output_filename, 'wb') as output:\n",
    "    writer.write(output)"
   ]
  },
  {
   "cell_type": "code",
   "execution_count": 16,
   "metadata": {},
   "outputs": [],
   "source": [
    "print(my_page.extractText(), file=open(\"output.csv\",\"a\"))\n",
    "\n",
    "#print(\"Hello stackoverflow!\", file=open(\"output.txt\", \"a\"))"
   ]
  },
  {
   "cell_type": "code",
   "execution_count": null,
   "metadata": {},
   "outputs": [],
   "source": []
  }
 ]
}